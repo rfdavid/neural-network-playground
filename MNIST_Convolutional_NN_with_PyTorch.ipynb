{
  "nbformat": 4,
  "nbformat_minor": 0,
  "metadata": {
    "colab": {
      "name": "MNIST Convolutional NN with PyTorch",
      "provenance": [],
      "collapsed_sections": [],
      "authorship_tag": "ABX9TyMOIGj+ObiaXciRiBTJJMiu",
      "include_colab_link": true
    },
    "kernelspec": {
      "display_name": "Python 3",
      "name": "python3"
    },
    "language_info": {
      "name": "python"
    }
  },
  "cells": [
    {
      "cell_type": "markdown",
      "metadata": {
        "id": "view-in-github",
        "colab_type": "text"
      },
      "source": [
        "<a href=\"https://colab.research.google.com/github/rfdavid/simple-mnist-nn/blob/master/MNIST_Convolutional_NN_with_PyTorch.ipynb\" target=\"_parent\"><img src=\"https://colab.research.google.com/assets/colab-badge.svg\" alt=\"Open In Colab\"/></a>"
      ]
    },
    {
      "cell_type": "markdown",
      "metadata": {
        "id": "bSOtMbIpy8_p"
      },
      "source": [
        "<h2>Convolutional Neural Network with PyTorch</h2>\n",
        "\n",
        "This is a simple implementation to recognize handwritten digits from MNIST dataset using convolutional neural networks in PyTorch framework"
      ]
    },
    {
      "cell_type": "code",
      "metadata": {
        "id": "SP0maXQ4dDJw"
      },
      "source": [
        "import torch\n",
        "from torch import nn\n",
        "from torch.utils.data import DataLoader\n",
        "from torchvision import datasets, transforms\n",
        "import torchvision\n",
        "from collections import OrderedDict\n",
        "from torchvision.transforms import ToTensor, Lambda, Compose\n",
        "import matplotlib.pyplot as plt\n",
        "import numpy as np\n",
        "import pandas as pd\n",
        "import time\n",
        "\n",
        "'''\n",
        "   PyTorch Neural Network Module\n",
        "   Input: \n",
        "    - OrderedDict of sequence for the convolution layer\n",
        "    - OrderedDict of sequence for the convolution layer\n",
        "'''\n",
        "class Model(nn.Module):\n",
        "    def __init__(self, seq_convolutional, seq_linear):\n",
        "        super(Model, self).__init__()\n",
        "        self.convolutional_layers = nn.Sequential(seq_convolutional)\n",
        "        self.linear_layers = nn.Sequential(seq_linear)\n",
        "\n",
        "    def forward(self, x):\n",
        "        x = self.convolutional_layers(x)\n",
        "        x = x.view(x.size(0), -1)\n",
        "        x = self.linear_layers(x)\n",
        "        return x\n",
        "\n",
        "'''\n",
        "   The generic Neural Network class for MNIST dataset\n",
        "   methods:\n",
        "    - load_data()\n",
        "    - run()\n",
        "    - train()\n",
        "    - test()\n",
        "'''\n",
        "class NeuralNetwork():\n",
        "    def __init__(self, model = None, loss_fn = None, optimizer = None, debug = True):\n",
        "        self.model = model\n",
        "        self.loss_fn = loss_fn\n",
        "        self.optimizer = optimizer\n",
        "        self.debug = debug\n",
        "        self.train_dataloader = None\n",
        "        self.test_dataloader = None\n",
        "\n",
        "    def train(self):\n",
        "        correct = 0\n",
        "        size = len(self.train_dataloader.dataset)\n",
        "        for batch, (X, y) in enumerate(self.train_dataloader):\n",
        "            pred = self.model(X)\n",
        "            loss = self.loss_fn(pred, y)\n",
        "            self.optimizer.zero_grad()\n",
        "            loss.backward()\n",
        "            self.optimizer.step()\n",
        "            correct += (pred.argmax(1) == y).type(torch.float).sum().item()\n",
        "        correct /= size\n",
        "        if self.debug:\n",
        "          print(f\"Training Accuracy: {(100*correct):>0.1f}%\")\n",
        "\n",
        "        return correct\n",
        "\n",
        "    def test(self):\n",
        "        size = len(self.test_dataloader.dataset)\n",
        "        correct = 0\n",
        "        with torch.no_grad():\n",
        "            for  batch, (X, y) in enumerate(self.test_dataloader):\n",
        "                pred = self.model(X)\n",
        "                correct += (pred.argmax(1) == y).type(torch.float).sum().item()\n",
        "        correct /= size\n",
        "        if self.debug:\n",
        "          print(f\"Test Accuracy: {(100*correct):>0.1f}%\")\n",
        "\n",
        "        return correct\n",
        "\n",
        "    def load_data(self, batch_size = 64):\n",
        "        training_data = datasets.MNIST(\n",
        "            root='data',\n",
        "            train=True,\n",
        "            download=True,\n",
        "            transform=ToTensor()\n",
        "        )\n",
        "\n",
        "        test_data = datasets.MNIST(\n",
        "            root='data',        \n",
        "            train=False,\n",
        "            download=True,\n",
        "            transform=ToTensor()\n",
        "        )\n",
        "\n",
        "        self.train_dataloader = torch.utils.data.DataLoader(training_data, batch_size = batch_size, shuffle = True)\n",
        "        self.test_dataloader = DataLoader(test_data, batch_size = batch_size)\n",
        "\n",
        "    def run(self, epochs):\n",
        "        for t in range(epochs):\n",
        "            print(f\"\\nEpoch {t+1}\")\n",
        "            print(\"-------\")\n",
        "            self.train()\n",
        "            self.test()"
      ],
      "execution_count": null,
      "outputs": []
    },
    {
      "cell_type": "code",
      "metadata": {
        "colab": {
          "base_uri": "https://localhost:8080/"
        },
        "id": "LjYI3hiRbDb6",
        "outputId": "3435875b-1e21-41af-a18a-f4f276d7ce88"
      },
      "source": [
        "''' \n",
        "  This is a helper function to calculate the output size to use in our\n",
        "  architecture by calculating the following equation:\n",
        "\n",
        "  (n + 2*p - f)/s + 1\n",
        "\n",
        "  n x n image (28x28)\n",
        "  f x f filter (kernel size)\n",
        "  p padding\n",
        "  s stride\n",
        "'''\n",
        "def calc_output(output_size, kernel_size, padding, stride):\n",
        "  return ((output_size + 2*padding - kernel_size) / stride) + 1\n",
        "\n",
        "def calc_structure(output_size, structure):\n",
        "  for s in structure:\n",
        "    output_size = calc_output(output_size, s[0], s[1], s[2])\n",
        "    output_size = output_size / s[3] # maxpool\n",
        "  return output_size\n",
        "\n",
        "'''\n",
        "   28x28 image\n",
        "   [3, 1, 1, 2]   3 filters (kernel), padding 1, stride 1, followed by maxpool kernel size = 2\n",
        "   [3, 1, 1, 2]   3 filters (kernel), padding 1, stride 1, followed by maxpool kernel size = 2\n",
        "   Result: 7 (7x7 grid)\n",
        "'''\n",
        "print(calc_structure(28, [[3, 1, 1, 2],[3, 1, 1, 2]]))\n"
      ],
      "execution_count": null,
      "outputs": [
        {
          "output_type": "stream",
          "text": [
            "7.0\n"
          ],
          "name": "stdout"
        }
      ]
    },
    {
      "cell_type": "code",
      "metadata": {
        "id": "5-kQt2Vfnpbq",
        "colab": {
          "base_uri": "https://localhost:8080/"
        },
        "outputId": "8a770c14-6ae4-45ac-ee8f-69ae9b33ffd6"
      },
      "source": [
        "'''\n",
        "   Create two sequences: convolutional followed by linear\n",
        "'''\n",
        "sequence_convolutional = OrderedDict([\n",
        "            # in channels = 1 (grayscale)\n",
        "            ('conv1', nn.Conv2d(in_channels = 1, out_channels = 6, kernel_size = 3, padding = 1, stride = 1)),\n",
        "            # (28 + 2*1 - 3)/1 + 1 = 28 output\n",
        "            ('relu1', nn.ReLU()),\n",
        "            ('maxpool1', nn.MaxPool2d(kernel_size = 2)),\n",
        "            # 26 / 2 = 13\n",
        "            ('conv2', nn.Conv2d(in_channels = 6, out_channels = 12, kernel_size = 3, padding = 1, stride = 1)),\n",
        "            # (13 + 2*0 - 3)/1 + 1 = 11\n",
        "            ('relu2', nn.ReLU()),\n",
        "            ('maxpool2', nn.MaxPool2d(kernel_size=2)),\n",
        "            # 14 / 2 = 7\n",
        "])\n",
        "\n",
        "'''\n",
        "   The input size for the linear sequence is the output channel size from\n",
        "   the convolutional sequence times n x n calculated size\n",
        "'''\n",
        "sequence_linear = OrderedDict([\n",
        "            # output channel = 12\n",
        "            # maxpool grid 7x7\n",
        "            # channels x n x n\n",
        "            # use calc_structure helper to calculate the n x n grid\n",
        "            ('linear1', nn.Linear(12*7*7, 64)),\n",
        "            ('relu3', nn.ReLU()),\n",
        "            ('linear2', nn.Linear(64, 10))                               \n",
        "])\n",
        "\n",
        "device = \"cuda\" if torch.cuda.is_available() else \"cpu\"\n",
        "network = NeuralNetwork()\n",
        "network.model = Model(sequence_convolutional, sequence_linear).to(device)\n",
        "network.load_data()\n",
        "network.optimizer = torch.optim.SGD(network.model.parameters(), lr = 0.3)\n",
        "network.loss_fn = nn.CrossEntropyLoss()\n",
        "network.run(epochs = 3)"
      ],
      "execution_count": null,
      "outputs": [
        {
          "output_type": "stream",
          "text": [
            "\n",
            "Epoch 1\n",
            "-------\n",
            "Training Accuracy: 90.2%\n",
            "Test Accuracy: 97.2%\n",
            "\n",
            "Epoch 2\n",
            "-------\n",
            "Training Accuracy: 97.5%\n",
            "Test Accuracy: 96.1%\n",
            "\n",
            "Epoch 3\n",
            "-------\n",
            "Training Accuracy: 98.2%\n",
            "Test Accuracy: 98.4%\n"
          ],
          "name": "stdout"
        }
      ]
    },
    {
      "cell_type": "code",
      "metadata": {
        "id": "DE6FcOjO0VeM"
      },
      "source": [
        ""
      ],
      "execution_count": null,
      "outputs": []
    }
  ]
}