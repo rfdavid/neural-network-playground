{
  "nbformat": 4,
  "nbformat_minor": 0,
  "metadata": {
    "colab": {
      "name": "MNIST.ipynb",
      "provenance": [],
      "collapsed_sections": [],
      "authorship_tag": "ABX9TyMzi8ghQkIAD4uBAuoFCdTV"
    },
    "kernelspec": {
      "name": "python3",
      "display_name": "Python 3"
    },
    "language_info": {
      "name": "python"
    }
  },
  "cells": [
    {
      "cell_type": "markdown",
      "metadata": {
        "id": "ew1fZ0krRV-y"
      },
      "source": [
        "<h1>Simple MNIST Neural Network (2021)</h1>\n",
        "<h3>This is an example of a simple neural network using Python 3 and numpy</h3>"
      ]
    },
    {
      "cell_type": "code",
      "metadata": {
        "id": "gCsCD4rGRHc4"
      },
      "source": [
        "import numpy as np\n",
        "import pandas as pd\n",
        "import zlib\n",
        "import requests\n",
        "import matplotlib.pyplot as plt\n",
        "%matplotlib inline"
      ],
      "execution_count": 132,
      "outputs": []
    },
    {
      "cell_type": "markdown",
      "metadata": {
        "id": "VNt2sn9qRRXb"
      },
      "source": [
        "<h2><b>Loader class</b>: load MNIST original dataset from a url</h2>"
      ]
    },
    {
      "cell_type": "code",
      "metadata": {
        "id": "l0y6yuetRSrE"
      },
      "source": [
        "class MNISTLoader():\n",
        "    def __init__(self, train_image, train_label, test_image, test_label):\n",
        "        self.train_images = self.load_images(train_image)\n",
        "        self.train_labels = self.load_labels(train_label)\n",
        "        self.test_images  = self.load_images(test_image)\n",
        "        self.test_labels  = self.load_labels(test_label)\n",
        "\n",
        "    def load(self):\n",
        "        return self.train_images, self.train_labels, self.test_images, self.test_labels\n",
        "  \n",
        "    # http://yann.lecun.com/exdb/mnist\n",
        "    #\n",
        "    # [offset] [type]          [value]          [description]\n",
        "    # 0000     32 bit integer  0x00000803(2051) magic number\n",
        "    # 0004     32 bit integer  60000            number of images\n",
        "    # 0008     32 bit integer  28               number of rows\n",
        "    # 0012     32 bit integer  28               number of columns\n",
        "    # 0016     unsigned byte   ??               pixel\n",
        "    # 0017     unsigned byte   ??               pixel\n",
        "    # ........\n",
        "    # xxxx     unsigned byte   ??               pixel\n",
        "    # \n",
        "    # 1. starts from 16 (ignore first 15 bytes - header information)\n",
        "    # 2. reshape to 784 columns, n rows\n",
        "    # 3. transpose: we want 784 rows, n columns\n",
        "    # 4. normalize by dividing by 255\n",
        "    def load_images(self, dataset):\n",
        "        return self.load_file(dataset)[16:].reshape((-1, 784)).T / 255\n",
        "\n",
        "    # [offset] [type]          [value]          [description]\n",
        "    # 0000     32 bit integer  0x00000801(2049) magic number (MSB first)\n",
        "    # 0004     32 bit integer  10000            number of items\n",
        "    # 0008     unsigned byte   ??               label\n",
        "    # 0009     unsigned byte   ??               label\n",
        "    # ........\n",
        "    # xxxx     unsigned byte   ??               label\n",
        "    def load_labels(self, dataset):\n",
        "        return self.load_file(dataset)[8:]  # starts from 8 ... n\n",
        "\n",
        "    # Load from url and decompress\n",
        "    def load_file(self, url):\n",
        "        content = requests.get(url).content\n",
        "        data = zlib.decompress(content, zlib.MAX_WBITS|32)\n",
        "        return np.frombuffer(data, dtype = np.uint8)"
      ],
      "execution_count": 133,
      "outputs": []
    },
    {
      "cell_type": "markdown",
      "metadata": {
        "id": "UK0fWxDnRjgS"
      },
      "source": [
        "<h2>Initialize helper methods</h2>"
      ]
    },
    {
      "cell_type": "code",
      "metadata": {
        "id": "abXxNeKcRkHs"
      },
      "source": [
        "def sigmoid(Z):\n",
        "  return 1.0 / (1.0 + np.exp(-Z))\n",
        "\n",
        "def sigmoid_derivative(Z):\n",
        "  s = self.sigmoid(Z)\n",
        "  return s * (1 - s)\n",
        "\n",
        "def relu(Z):\n",
        "  return np.maximum(Z, 0)\n",
        "\n",
        "def relu_derivative(Z):\n",
        "  return (Z > 0).astype(int)\n",
        "\n",
        "def softmax(Z):\n",
        "  exp_Z = np.exp(Z)\n",
        "  return exp_Z / sum(exp_Z)\n",
        "\n",
        "def one_hot(Y):\n",
        "  one_hot_Y = np.eye(10)[Y]\n",
        "  return one_hot_Y.T.reshape(10, -1)\n",
        "\n",
        "def plot_image(X, index):\n",
        "  image = X[:, index].reshape(28, 28) \n",
        "  plt.gray()\n",
        "  plt.imshow(image)\n",
        "  plt.show()"
      ],
      "execution_count": 155,
      "outputs": []
    },
    {
      "cell_type": "markdown",
      "metadata": {
        "id": "joPuc2xXRugI"
      },
      "source": [
        "<h2>Load test and training examples</h2>"
      ]
    },
    {
      "cell_type": "code",
      "metadata": {
        "id": "MmffW4K7RnoE"
      },
      "source": [
        "train_images_url = 'https://raw.githubusercontent.com/rfdavid/simple-mnist-nn/master/dataset/train-images-idx3-ubyte.gz'\n",
        "train_labels_url = 'https://raw.githubusercontent.com/rfdavid/simple-mnist-nn/master/dataset/train-labels-idx1-ubyte.gz'\n",
        "test_images_url = 'https://raw.githubusercontent.com/rfdavid/simple-mnist-nn/master/dataset/t10k-images-idx3-ubyte.gz'\n",
        "test_labels_url = 'https://raw.githubusercontent.com/rfdavid/simple-mnist-nn/master/dataset/t10k-labels-idx1-ubyte.gz'\n",
        "\n",
        "dataset = MNISTLoader(train_images_url,train_labels_url, test_images_url, test_labels_url)\n",
        "        \n",
        "X_train, Y_train, X_test, Y_test = dataset.load()"
      ],
      "execution_count": 135,
      "outputs": []
    },
    {
      "cell_type": "code",
      "metadata": {
        "colab": {
          "base_uri": "https://localhost:8080/",
          "height": 333
        },
        "id": "wV1Ec3XWRxTT",
        "outputId": "d6c5e307-74ea-48c7-d07e-b3af2ca6d76e"
      },
      "source": [
        "# Print some information\n",
        "\n",
        "plot_image(X_train, 6)\n",
        "\n",
        "print('X_train shape: ', X_train.shape)\n",
        "print('Y_train shape: ', Y_train.shape)\n",
        "print('X_test shape: ', X_test.shape)\n",
        "print('Y_test shape: ', Y_test.shape)"
      ],
      "execution_count": 156,
      "outputs": [
        {
          "output_type": "display_data",
          "data": {
            "image/png": "[encoded data removed]",
            "text/plain": [
              "<Figure size 432x288 with 1 Axes>"
            ]
          },
          "metadata": {
            "tags": [],
            "needs_background": "light"
          }
        },
        {
          "output_type": "stream",
          "text": [
            "X_train shape:  (784, 60000)\n",
            "Y_train shape:  (60000,)\n",
            "X_test shape:  (784, 10000)\n",
            "Y_test shape:  (10000,)\n"
          ],
          "name": "stdout"
        }
      ]
    },
    {
      "cell_type": "markdown",
      "metadata": {
        "id": "9WGmvUZ3R8Ig"
      },
      "source": [
        "<h2>Neural Network</h2>\n",
        "\n",
        "<b>Initial setup</b>\n",
        "\n",
        "\n",
        "*   1 input layer with 784 nodes/features\n",
        "*   1 hidden layer with 128 nodes\n",
        "*   1 output layer with 10 nodes\n",
        "\n",
        "Initialize params (b and w) <b>></b> train loop <b>></b> feedforwad <b>></b> backward propagation <b>></b> update params\n",
        "\n",
        "We are going to use simple methods without class so the variables are more explicit to understand from a mathematical point of view.\n",
        "\n",
        "\n"
      ]
    },
    {
      "cell_type": "code",
      "metadata": {
        "id": "xeQAdPEFRz2Z"
      },
      "source": [
        "def initialize_params():\n",
        "  # W1 size = 128x784 <-- number of nodes on input layer\n",
        "  #             ^-------- number of nodes on the following (hidden) layer\n",
        "  # multiply by 0.01 to prevent calc overflow\n",
        "  # b1 size = hidden layer x 1\n",
        "  W1 = np.random.rand(128, 784) * 0.01\n",
        "  b1 = np.random.rand(128, 1)\n",
        "\n",
        "  # W2 size = 10x128 <-- number of nodes on hidden layer\n",
        "  #           ^--------- number of nodes on the following (output) layer\n",
        "  # b2 size = output layer x 1\n",
        "  W2 = np.random.rand(10, 128) * 0.01\n",
        "  b2 = np.random.rand(10, 1)\n",
        "\n",
        "  return W1, b1, W2, b2"
      ],
      "execution_count": 160,
      "outputs": []
    },
    {
      "cell_type": "code",
      "metadata": {
        "id": "smiZqlojYPdt"
      },
      "source": [
        "# X (input) > Z1 / A1 (hidden layer) > Z2 / A2 (output layer) \n",
        "def feedforward(X, W1, b1, W2, b2):\n",
        "  Z1 = W1.dot(X) + b1\n",
        "  A1 = relu(Z1)\n",
        "  Z2 = W2.dot(A1) + b2\n",
        "  A2 = softmax(Z2)\n",
        "\n",
        "  return Z1, A1, Z2, A2"
      ],
      "execution_count": 161,
      "outputs": []
    },
    {
      "cell_type": "code",
      "metadata": {
        "id": "JNqswy6rYU07"
      },
      "source": [
        "# Calculate the derivative of W's and b's to update the params later\n",
        "def backward_propagation(A2, Z2, A1, Z1, W2, W1, X, Y_one_hot, m):\n",
        "  dZ2 = A2 - Y_one_hot\n",
        "  dW2 = 1 / m * dZ2.dot(A1.T)\n",
        "  db2 = 1 / m * np.sum(dZ2)\n",
        "  dZ1 = W2.T.dot(dZ2) * relu_derivative(Z1)\n",
        "  dW1 = 1 / m * dZ1.dot(X.T)\n",
        "  db1 = 1 / m * np.sum(dZ1)\n",
        "  \n",
        "  return dW1, db1, dW2, db2\n"
      ],
      "execution_count": 162,
      "outputs": []
    },
    {
      "cell_type": "code",
      "metadata": {
        "id": "4w2csdsCcK3N"
      },
      "source": [
        "def update_params(W1, dW1, b1, db1, W2, dW2, b2, db2, learning_rate):\n",
        "  W1 = W1 - learning_rate * dW1\n",
        "  b1 = b1 - learning_rate * db1\n",
        "  W2 = W2 - learning_rate * dW2\n",
        "  b2 = b2 - learning_rate * db2\n",
        "\n",
        "  return W1, b1, W2, b2"
      ],
      "execution_count": 163,
      "outputs": []
    },
    {
      "cell_type": "code",
      "metadata": {
        "id": "pXThF2ojF318"
      },
      "source": [
        "# Input: the calculated output layer (A2)\n",
        "#         A2 shape = 10 x n\n",
        "#         each row represents the probability to be 0 to 9\n",
        "#\n",
        "#         A2 example = [[0.0812547  0.07125533 0.07148461 ... 0.07139573 0.07139161 0.0714528 ]\n",
        "#                      [0.12177335 0.12127117 0.12296045 ... 0.12265309 0.12290747 0.12275408]]\n",
        "#  \n",
        "#         which means for the first example/image, the highest probability is the first element (0.0812547)\n",
        "#         therefore, the number is possibly 0\n",
        "#\n",
        "# Output: we want to convert this matrix to the same as the Y, so its easier to compare\n",
        "#         Y shape = 60000 x 1\n",
        "#         Y example = [2 0 3 9 1 1 ...]\n",
        "#         \n",
        "#         np.argmax returns the index of the maximum element. When using axis = 0, it will\n",
        "#         flatten into an array of m x 1\n",
        "#\n",
        "#\n",
        "def predictions(output):\n",
        "  return np.argmax(output, axis = 0)\n",
        "\n",
        "# get the output layer (A2) by feed forwarding using\n",
        "# the params we already have: X training set, W1, W2, b1 and b2\n",
        "def predict(X, W1, b1, W2, b2):\n",
        "  _, _, _, A2 = feedforward(X, W1, b1, W2, b2)\n",
        "  return predictions(A2)\n",
        "\n",
        "# Sum when Y id equal predicted_Y (prediction was right)\n",
        "# and divide by the total to get the % of accuracy\n",
        "def accuracy(Y, predicted_Y):\n",
        "  return np.sum(Y == predicted_Y) / Y.size\n"
      ],
      "execution_count": 164,
      "outputs": []
    },
    {
      "cell_type": "code",
      "metadata": {
        "id": "IEnRpE-sYaud"
      },
      "source": [
        "def train(X, Y, learning_rate, epochs):\n",
        "  W1, b1, W2, b2 = initialize_params()\n",
        "  m = X.shape[1]\n",
        "\n",
        "  # Y_train = [ 1 4 3 9 0 1 ... ]\n",
        "  # Y_one_hot = [ [0 1 0 0 0 0 0 0 0 0], [0 0 0 0 1 0 0 0 0 0] ... ]\n",
        "  Y_one_hot = one_hot(Y)\n",
        "\n",
        "  # gradient descent\n",
        "  for i in range(epochs):\n",
        "    Z1, A1, Z2, A2 = feedforward(X, W1, b1, W2, b2)\n",
        "    dW1, db1, dW2, db2 = backward_propagation(A2, Z2, A1, Z1, W2, W1, X, Y_one_hot, m)\n",
        "    W1, b1, W2, b2 = update_params(W1, dW1, b1, db1, W2, dW2, b2, db2, learning_rate)\n",
        "\n",
        "    if i % 100 == 0:\n",
        "      print(\"Iteration #\", i)\n",
        "      pred = predictions(A2)\n",
        "      acc  = accuracy(Y, pred)\n",
        "      print(\"Accuracy (training set): \",  \"{:.2f}\".format(acc * 100), \"%\")\n",
        "\n",
        "  return W1, b1, W2, b2"
      ],
      "execution_count": 178,
      "outputs": []
    },
    {
      "cell_type": "code",
      "metadata": {
        "colab": {
          "base_uri": "https://localhost:8080/"
        },
        "id": "CASTjpLMcN3k",
        "outputId": "919ca213-c5c7-49eb-8f6e-6a6e6dceee07"
      },
      "source": [
        "W1, b1, W2, b2 = train(X_train, Y_train, learning_rate = 0.25, epochs = 1500)"
      ],
      "execution_count": 179,
      "outputs": [
        {
          "output_type": "stream",
          "text": [
            "Iteration # 0\n",
            "Accuracy (training set):  9.86 %\n",
            "Iteration # 100\n",
            "Accuracy (training set):  86.37 %\n",
            "Iteration # 200\n",
            "Accuracy (training set):  90.14 %\n",
            "Iteration # 300\n",
            "Accuracy (training set):  91.13 %\n",
            "Iteration # 400\n",
            "Accuracy (training set):  91.84 %\n",
            "Iteration # 500\n",
            "Accuracy (training set):  92.46 %\n",
            "Iteration # 600\n",
            "Accuracy (training set):  92.98 %\n",
            "Iteration # 700\n",
            "Accuracy (training set):  93.48 %\n",
            "Iteration # 800\n",
            "Accuracy (training set):  93.92 %\n",
            "Iteration # 900\n",
            "Accuracy (training set):  94.34 %\n",
            "Iteration # 1000\n",
            "Accuracy (training set):  94.73 %\n",
            "Iteration # 1100\n",
            "Accuracy (training set):  95.01 %\n",
            "Iteration # 1200\n",
            "Accuracy (training set):  95.27 %\n",
            "Iteration # 1300\n",
            "Accuracy (training set):  95.53 %\n",
            "Iteration # 1400\n",
            "Accuracy (training set):  95.79 %\n"
          ],
          "name": "stdout"
        }
      ]
    },
    {
      "cell_type": "code",
      "metadata": {
        "colab": {
          "base_uri": "https://localhost:8080/"
        },
        "id": "7c7Xber0WFKW",
        "outputId": "a32e1ad8-38cc-406b-aaf6-343ac0fb6527"
      },
      "source": [
        "Y_predicted_test = predict(X_test, W1, b1, W2, b2)\n",
        "acc = accuracy(Y_test, Y_predicted_test)\n",
        "\n",
        "print(\"The accuracy on test dataset is: \", \"{:.2f}\".format(acc * 100), \"%\")"
      ],
      "execution_count": 180,
      "outputs": [
        {
          "output_type": "stream",
          "text": [
            "The accuracy on test dataset is:  95.71 %\n"
          ],
          "name": "stdout"
        }
      ]
    },
    {
      "cell_type": "code",
      "metadata": {
        "id": "kcfmf46QwlUf"
      },
      "source": [
        ""
      ],
      "execution_count": null,
      "outputs": []
    }
  ]
}